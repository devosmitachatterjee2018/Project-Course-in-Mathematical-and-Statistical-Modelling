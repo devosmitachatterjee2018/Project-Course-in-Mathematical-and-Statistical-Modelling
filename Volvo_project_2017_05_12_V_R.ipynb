{
 "cells": [
  {
   "cell_type": "markdown",
   "metadata": {},
   "source": [
    "**Visualize all tracks in file '2017-05-17_00h_tracks.csv' :**"
   ]
  },
  {
   "cell_type": "code",
   "execution_count": 9,
   "metadata": {},
   "outputs": [
    {
     "name": "stdout",
     "output_type": "stream",
     "text": [
      "               ID                              Time        x        y\n",
      "134959  150012936  2017-05-12 07:54:04.576000+02:00 -5.02914  10.9192\n",
      "134960  150012936  2017-05-12 07:54:04.829000+02:00   -4.278  10.4455\n",
      "134961  150012936  2017-05-12 07:54:05.081000+02:00 -3.78509  9.29752\n",
      "134962  150012936  2017-05-12 07:54:05.334000+02:00 -3.51797  7.91323\n",
      "134963  150012936  2017-05-12 07:54:05.586000+02:00 -3.17595  6.70549\n",
      "Selected paths saved to csv !\n"
     ]
    }
   ],
   "source": [
    "import pandas as pd\n",
    "from pandas import DataFrame\n",
    "import numpy as np\n",
    "import os\n",
    "import csv\n",
    "\n",
    "num_TOs = 1500\n",
    "\n",
    "# Loading original tracks data:\n",
    "cols = ['ID','Time','x', 'y','Speed','Type','Estimated']\n",
    "data = pd.read_csv('2017-05-12_00h_tracks.csv',index_col=False, header=None,sep=';',names=cols )\n",
    "data = data.drop(data.index[0])   # drops the first row\n",
    "df = data[(data['Type'] == 2)]  # only selecting TO of type 2 (car)\n",
    "\n",
    "\n",
    "# creating new data frame for plotting trajectories: \n",
    "df = df[['ID', 'Time','x', 'y']]\n",
    "\n",
    "print(df.head())\n",
    "\n",
    "# path to to put saved file:\n",
    "path = r'C:\\Users\\Katarina Tran\\Desktop\\CAS\\Project_course_math_stat_modelling\\2017_05_17_R'\n",
    "\n",
    "# the file is currently named 'selected_path.csv':\n",
    "df.to_csv(os.path.join(path, r'xy_all.csv'), index=False)\n",
    "\n",
    "print('Selected paths saved to csv !')"
   ]
  },
  {
   "cell_type": "markdown",
   "metadata": {},
   "source": [
    "**Conversion to lat-long coord:**"
   ]
  },
  {
   "cell_type": "code",
   "execution_count": 10,
   "metadata": {},
   "outputs": [
    {
     "name": "stdout",
     "output_type": "stream",
     "text": [
      "conversion completed!\n"
     ]
    }
   ],
   "source": [
    "import pandas as pd\n",
    "import numpy as np\n",
    "from pandas import DataFrame\n",
    "import os\n",
    "import csv\n",
    "\n",
    "\"\"\" Converts data x-y coordinates into latitudinal and longitudinal positions.\n",
    " Specify below the path where the csv file is to be saved. Requires Pandas and Numpy package.\"\"\"\n",
    "\n",
    "########################################################################################################################\n",
    "# lat <=> y, long <=> x\n",
    "ref_position = np.array([59.916559, 10.734520])\n",
    "lat = 59.916687\n",
    "lon = 10.734836\n",
    "position = [lat, lon]\n",
    "\n",
    "diff_lat = position[0] - ref_position[0]\n",
    "diff_lon = position[1] - ref_position[1]\n",
    "\n",
    "diff_x = 23.41\n",
    "diff_y = -20\n",
    "\n",
    "const_lat = np.round(diff_lat/diff_y, 6)\n",
    "const_lon = np.round(diff_lon/diff_x, 6)\n",
    "\n",
    "theta = np.pi + np.pi/2\n",
    "\n",
    "########################################################################################################################\n",
    "\n",
    "cols = ['ID','Time','x', 'y']\n",
    "\n",
    "# Add the csv file to be converted here:\n",
    "df = pd.read_csv(r'C:\\Users\\Katarina Tran\\Desktop\\CAS\\Project_course_math_stat_modelling\\2017_05_17_R\\xy_all.csv', index_col=False, header=None, sep=',', names= cols)\n",
    "df = df.drop(df.index[0])   # drops the first row\n",
    "\n",
    "df['lat'] = df['y'].astype(float)\n",
    "df['long'] = df['x'].astype(float)\n",
    "df['x'] = df['long'].astype(float)\n",
    "df['y'] = df['lat'].astype(float)\n",
    "\n",
    "# rotate x-y-coordinates by pi/2:\n",
    "#df['x_new'] = df['x'].multiply(np.cos(theta)) - df['y'].multiply(np.sin(theta))\n",
    "#df['y_new'] = df['x'].multiply(np.sin(theta)) + df['y'].multiply(np.cos(theta))\n",
    "\n",
    "df['const_lat'] = const_lat\n",
    "df['const_long'] = const_lon\n",
    "df['ref_lat'] = ref_position[0]\n",
    "df['ref_long'] = ref_position[1]\n",
    "\n",
    "df['lat'] = df['y'].multiply(df['const_lat'])\n",
    "df['lat'] = df['lat'].add(df['ref_lat'])\n",
    "\n",
    "df['long'] = df['x'].multiply(df['const_long'])\n",
    "df['long'] = df['long'].add(df['ref_long'])\n",
    "\n",
    "#df = df.drop(['const_lat', 'const_long', 'ref_lat', 'ref_long', 'x', 'y', 'x_new', 'y_new'], axis=1)\n",
    "df = df.drop(['const_lat', 'const_long', 'ref_lat', 'ref_long', 'x', 'y'], axis=1)\n",
    "\n",
    "# rounding positions coordinates to 6 decimals:\n",
    "df = df.round({'lat': 6, 'long': 6})\n",
    "\n",
    "# path to to put saved file:\n",
    "path = r'C:\\Users\\Katarina Tran\\Desktop\\CAS\\Project_course_math_stat_modelling\\2017_05_17_R'\n",
    "\n",
    "# the file is currently named 'LatLongData.csv':\n",
    "df.to_csv(os.path.join(path, r'LatLongData_area_2017_05_17_all.csv'), index=False)\n",
    "\n",
    "print('conversion completed!')\n",
    "df_converted = df\n"
   ]
  },
  {
   "cell_type": "markdown",
   "metadata": {},
   "source": [
    "**Creating geojson file:**"
   ]
  },
  {
   "cell_type": "code",
   "execution_count": 11,
   "metadata": {},
   "outputs": [
    {
     "name": "stdout",
     "output_type": "stream",
     "text": [
      "geojson created!\n"
     ]
    }
   ],
   "source": [
    "import pandas as pd\n",
    "import numpy as np\n",
    "import json\n",
    "import csv\n",
    "\n",
    "\n",
    "''' This script converts the a data frame with columns: 'ID', 'lat', long' into geojson file for plotting '''\n",
    "\n",
    "########################################################################################################################\n",
    "'''\n",
    "# example data:    note: the 'lat' and 'long' must not be of typ numpy.int64 !\n",
    "Data = {'ID': [1, 1, 1, 1, 2, 2, 2, 2, 2, 2], 'lat':  [10.734221, 10.734474, 10.734661, 10.734940,  10.734114,\n",
    "                                                       10.734527, 10.734436, 10.734168, 10.733894, 10.733749],\n",
    "        'long': [59.916174, 59.916397, 59.916545, 59.916757,  59.916206, 59.916521, 59.916615, 59.916679, 59.916765,\n",
    "                 59.916798]\n",
    "        }\n",
    "df = DataFrame(Data, columns=['ID', 'lat', 'long'])\n",
    "\n",
    "'''\n",
    "########################################################################################################################\n",
    "cols = ['ID','Time','lat', 'long']\n",
    "# Add the csv file to be converted here:\n",
    "df = pd.read_csv(r'C:\\Users\\Katarina Tran\\Desktop\\CAS\\Project_course_math_stat_modelling\\2017_05_17_R\\LatLongData_area_2017_05_17_all.csv', index_col=False, header=None, sep=',', names=cols)\n",
    "df = df.drop(df.index[0])   # drops the first row\n",
    "del df['Time']\n",
    "#df = df.loc[:, ['ID', 'lat', 'long']]\n",
    "\n",
    "\n",
    "# choose number of traffic objects to plot:\n",
    "num_TO = 900\n",
    "TO_unique = df.ID.unique()\n",
    "batch = TO_unique[0:num_TO]\n",
    "df = df[df['ID'].isin(batch)]\n",
    "\n",
    "df['lat'] = df['lat'].astype(float)\n",
    "df['long'] = df['long'].astype(float)\n",
    "def df_to_geojson(df):\n",
    "    # extracting unique TO IDs:\n",
    "    TO_unique = df.ID.unique()\n",
    "    MultiLineString = []\n",
    "    for object in TO_unique:\n",
    "        # converts the the data frame to an array  [[ , ],[ , ],...[ , ]] :\n",
    "        string = df.loc[df['ID'] == object].values\n",
    "        # deleting first element in the array (corresponding to the ID value):\n",
    "        string = np.delete(string, np.s_[0], 1)\n",
    "        num_rows = len(string)\n",
    "        object_string = []\n",
    "        for row in range(num_rows):\n",
    "            string[row][0] = np.round(string[row][0], 6)\n",
    "            string[row][1] = np.round(string[row][1], 6)\n",
    "            object_string.append([string[row][1], string[row][0]])\n",
    "        MultiLineString.append(object_string)\n",
    "\n",
    "    geojson_dict = {'type': 'FeatureCollection', 'features': [{'type': 'Feature', 'properties': {}, 'geometry':\n",
    "        {'type':'MultiLineString', 'coordinates': MultiLineString}}]}\n",
    "\n",
    "    return geojson_dict\n",
    "\n",
    "geojson_dict = df_to_geojson(df)\n",
    "\n",
    "geojson_str = json.dumps(geojson_dict, indent=2)\n",
    "\n",
    "# save the geojson result to a file\n",
    "output_filename = 'TO_paths_2017_05_17_all.geojson'\n",
    "\n",
    "\n",
    "#with open(output_filename, 'wb') as output_file:\n",
    "with open(output_filename, 'w') as output_file:\n",
    "    output_file.write('{}'.format(geojson_str))\n",
    "\n",
    "print('geojson created!')"
   ]
  },
  {
   "cell_type": "markdown",
   "metadata": {},
   "source": []
  },
  {
   "cell_type": "code",
   "execution_count": null,
   "metadata": {},
   "outputs": [],
   "source": []
  },
  {
   "cell_type": "markdown",
   "metadata": {},
   "source": []
  },
  {
   "cell_type": "code",
   "execution_count": null,
   "metadata": {},
   "outputs": [],
   "source": []
  }
 ],
 "metadata": {
  "kernelspec": {
   "display_name": "Python 3",
   "language": "python",
   "name": "python3"
  },
  "language_info": {
   "codemirror_mode": {
    "name": "ipython",
    "version": 3
   },
   "file_extension": ".py",
   "mimetype": "text/x-python",
   "name": "python",
   "nbconvert_exporter": "python",
   "pygments_lexer": "ipython3",
   "version": "3.7.3"
  }
 },
 "nbformat": 4,
 "nbformat_minor": 2
}
